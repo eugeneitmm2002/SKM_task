{
  "nbformat": 4,
  "nbformat_minor": 0,
  "metadata": {
    "colab": {
      "name": " \"LAB_33_SKM_SHUIN.ipynb\"",
      "provenance": [],
      "collapsed_sections": [],
      "include_colab_link": true
    },
    "kernelspec": {
      "name": "python3",
      "display_name": "Python 3"
    },
    "language_info": {
      "name": "python"
    }
  },
  "cells": [
    {
      "cell_type": "markdown",
      "metadata": {
        "id": "view-in-github",
        "colab_type": "text"
      },
      "source": [
        "<a href=\"https://colab.research.google.com/github/eugeneitmm2002/SKM_task/blob/main/%22LAB_33_SKM_SHUIN_ipynb%22.ipynb\" target=\"_parent\"><img src=\"https://colab.research.google.com/assets/colab-badge.svg\" alt=\"Open In Colab\"/></a>"
      ]
    },
    {
      "cell_type": "markdown",
      "metadata": {
        "id": "swOhb1Cxxssj"
      },
      "source": [
        "## 33. Минимизация методом квадратичной интерполяции\n",
        "\n",
        "Реализовать метод квадратичной интерполяции для нахождения минимума функции, заданной на отрезке.\n",
        "Привести примеры функций, для которых процесс а) сходится сверхлинейно; б) сходится с линейной скоростью; в) не сходится. \n",
        "Ваша программа должна строить графики этих функций, выдавать найденную точку минимума и значение функции в ней и количество вычислений значений функции."
      ]
    },
    {
      "cell_type": "markdown",
      "metadata": {
        "id": "55pLDj873anm"
      },
      "source": [
        "**Шаг 1:** Первым делом подключаем нужные нам для реализации задачи библиотеки."
      ]
    },
    {
      "cell_type": "code",
      "metadata": {
        "id": "9YcTDQRYRJDk"
      },
      "source": [
        "from math import exp\n",
        "import matplotlib.pyplot as plt\n",
        "%matplotlib inline"
      ],
      "execution_count": 1,
      "outputs": []
    },
    {
      "cell_type": "markdown",
      "metadata": {
        "id": "V0Dl311N3eVA"
      },
      "source": [
        "**Шаг 2:** Ниже представлены функции, с которыми предстоит работать."
      ]
    },
    {
      "cell_type": "code",
      "metadata": {
        "id": "r7f8ARMBC5hq"
      },
      "source": [
        "def f(x) -> float:\n",
        "  return 2 * x**2 - exp(x)"
      ],
      "execution_count": 2,
      "outputs": []
    },
    {
      "cell_type": "code",
      "metadata": {
        "id": "w5YDqKA6A3OL"
      },
      "source": [
        "def f(x) -> float:\n",
        "  return 2 * x**2 + exp(x)"
      ],
      "execution_count": 2,
      "outputs": []
    },
    {
      "cell_type": "code",
      "metadata": {
        "id": "t_v6bSMUBAVL"
      },
      "source": [
        "def f(x) -> float:\n",
        "  return -x**2 + 2*x +3"
      ],
      "execution_count": 2,
      "outputs": []
    },
    {
      "cell_type": "markdown",
      "metadata": {
        "id": "Z6KHpcdZ3oPq"
      },
      "source": [
        "**Шаг 3** :Следующие 2 функции являются вспомогательными."
      ]
    },
    {
      "cell_type": "code",
      "metadata": {
        "id": "gLao40d-EK_H"
      },
      "source": [
        "def tmpF(xi, xj, xk) -> float:\n",
        "  return (xi - xj) * f(xk)"
      ],
      "execution_count": 3,
      "outputs": []
    },
    {
      "cell_type": "code",
      "metadata": {
        "id": "f3HfszxSEc0R"
      },
      "source": [
        "def tmpF2(xi, xj, xk) -> float:\n",
        "  return (xi**2 - xj**2) * f(xk)"
      ],
      "execution_count": 4,
      "outputs": []
    },
    {
      "cell_type": "markdown",
      "metadata": {
        "id": "vYbSUBTh3x0M"
      },
      "source": [
        "**Шаг 4** : Функция нахождения минимума в точке + подсчет количества итераций"
      ]
    },
    {
      "cell_type": "code",
      "metadata": {
        "id": "4Wm7OwP8pt6H"
      },
      "source": [
        "def funMin(x1, x2, x3, dx, e) -> list:\n",
        "  Fmin = min(f(x1), f(x2), f(x3))\n",
        "  x_ = 0.5 * (tmpF2(x2, x3, x1) + tmpF2(x3, x1, x2) + tmpF2(x1, x2, x3)) / (tmpF(x2, x3, x1) + tmpF(x3, x1, x2) + tmpF(x1, x2, x3))\n",
        "  if (abs((Fmin - f(x_)) / f(x_)) < e):\n",
        "    res = [1, x1, Fmin]\n",
        "    if (f(x2) == Fmin):\n",
        "      res[1] = x2\n",
        "    elif (f(x3) == Fmin):\n",
        "      res[1] = x3\n",
        "    return res\n",
        "  x = sorted([x_, x1, x2, x3])\n",
        "  y = [f(i) for i in x]\n",
        "  if y[0] == min(y) or y[1] == min(y):\n",
        "    res = funMin(x[0], x[1], x[2], dx, e)\n",
        "  else:\n",
        "    res = funMin(x[1], x[2], x[3], dx, e)\n",
        "  res[0] += 1\n",
        "  return res\n",
        "  "
      ],
      "execution_count": 5,
      "outputs": []
    },
    {
      "cell_type": "markdown",
      "metadata": {
        "id": "hq18fk4H34xt"
      },
      "source": [
        "**Шаг 5** : Лямбда-функция для вещественных чисел (оставляет 3 цифры после запятой)"
      ]
    },
    {
      "cell_type": "code",
      "metadata": {
        "id": "EK0POXWwymxx"
      },
      "source": [
        "toFixed = lambda x: float('{:.3f}'.format(x))"
      ],
      "execution_count": 6,
      "outputs": []
    },
    {
      "cell_type": "markdown",
      "metadata": {
        "id": "Zg0qT78p4BsI"
      },
      "source": [
        "**Шаг 6** : Функция отрисовки графика и отображения минимальной точки"
      ]
    },
    {
      "cell_type": "code",
      "metadata": {
        "id": "tOhLrizRt37x"
      },
      "source": [
        "def draw(x0, y0):\n",
        "  x = []\n",
        "  y = []\n",
        "  for i in range(100):\n",
        "    x.append(x0 - 5 + i / 10)\n",
        "    y.append(f(x[i]))\n",
        "  fig, ax = plt.subplots()\n",
        "  plt.xlim(x0 - 5, x0 + 5)\n",
        "  plt.ylim(y0 - 5, y0 + 5)\n",
        "  plt.plot(x, y)\n",
        "  plt.plot(x0, y0, 'ro')\n",
        "  plt.grid(True)\n",
        "  plt.text(x0, y0 - 0.6, 'Tmin({};{})'.format(toFixed(x0), toFixed(y0)))\n",
        "  pass"
      ],
      "execution_count": 7,
      "outputs": []
    },
    {
      "cell_type": "markdown",
      "metadata": {
        "id": "lB4-STtl4NaQ"
      },
      "source": [
        "**Шаг 7** : Нахождение первых 3 точек + вывод итераций"
      ]
    },
    {
      "cell_type": "code",
      "metadata": {
        "id": "BTUNeiPv2w96"
      },
      "source": [
        "def printItr(x0, dx, e) -> list:\n",
        "  x1 = x0\n",
        "  x2 = x1 + dx\n",
        "  x3 = float()\n",
        "  if f(x1) > f(x2):\n",
        "    x3 = x2 + dx\n",
        "  else:\n",
        "    x3 = x1 - dx\n",
        "  k, x, y = funMin(x1, x2, x3, dx, e)\n",
        "  print('Количество итераций:', k)\n",
        "  return [x, y]"
      ],
      "execution_count": 8,
      "outputs": []
    },
    {
      "cell_type": "markdown",
      "metadata": {
        "id": "HLbHOQD76ZU4"
      },
      "source": [
        "**Шаг 8** : Входные данные + получаем точку минимума и здесь же вывод кол-во итераций"
      ]
    },
    {
      "cell_type": "code",
      "metadata": {
        "colab": {
          "base_uri": "https://localhost:8080/"
        },
        "id": "2_fWQLVx6YZu",
        "outputId": "d4bfd2b2-0ee1-4fed-9da7-4fed0e84f904"
      },
      "source": [
        "x0 = 1.0\n",
        "dx = 0.5\n",
        "e = 0.0001\n",
        "x, y = printItr(x0, dx, e)"
      ],
      "execution_count": 9,
      "outputs": [
        {
          "output_type": "stream",
          "text": [
            "Количество итераций: 4\n"
          ],
          "name": "stdout"
        }
      ]
    },
    {
      "cell_type": "markdown",
      "metadata": {
        "id": "OCs1fkLC4bx0"
      },
      "source": [
        "**Шаг 9** : График функции с необходимимы условиями ( найденная точка минимума , значение функции в точке минимума )"
      ]
    },
    {
      "cell_type": "code",
      "metadata": {
        "colab": {
          "base_uri": "https://localhost:8080/",
          "height": 265
        },
        "id": "G89cAaE80i9M",
        "outputId": "2dc026f7-057e-4b52-d2f1-17374995122a"
      },
      "source": [
        "draw(x, y)"
      ],
      "execution_count": 10,
      "outputs": [
        {
          "output_type": "display_data",
          "data": {
            "image/png": "[encoded data removed]",
            "text/plain": [
              "<Figure size 432x288 with 1 Axes>"
            ]
          },
          "metadata": {
            "tags": [],
            "needs_background": "light"
          }
        }
      ]
    },
    {
      "cell_type": "markdown",
      "metadata": {
        "id": "ANfhI36iKwCv"
      },
      "source": [
        "**Выводы :**\n",
        "\n",
        "1.   Реализуя минимизацию методом квадратичной интерполяции , стало ясно , что этот способ достаточно быстро справляется со своей задачей - поиска минимума функции и полностью рабочий.\n",
        "2.   Программа выполняет все нужные действия , которые требовались в задаче , а именно : строит графики функций, выдает найденную точку минимума и значение функции в ней и количество вычислений значений функции ( т.е кол-во итераций ) .\n",
        "3. В итоге , привел примеры функций, для которых процесс а) сходится сверхлинейно ( 1 функция ) , сходится с линейной скоростью ( 3 функция ),  не сходится ( 2 функция)\n",
        "\n"
      ]
    }
  ]
}